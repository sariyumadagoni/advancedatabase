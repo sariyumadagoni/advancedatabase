{
  "nbformat": 4,
  "nbformat_minor": 0,
  "metadata": {
    "colab": {
      "provenance": [],
      "include_colab_link": true
    },
    "kernelspec": {
      "name": "python3",
      "display_name": "Python 3"
    },
    "language_info": {
      "name": "python"
    }
  },
  "cells": [
    {
      "cell_type": "markdown",
      "metadata": {
        "id": "view-in-github",
        "colab_type": "text"
      },
      "source": [
        "<a href=\"https://colab.research.google.com/github/sariyumadagoni/advancedatabase/blob/main/c226f25_DTD2.ipynb\" target=\"_parent\"><img src=\"https://colab.research.google.com/assets/colab-badge.svg\" alt=\"Open In Colab\"/></a>"
      ]
    },
    {
      "cell_type": "markdown",
      "source": [
        "# Get our files"
      ],
      "metadata": {
        "id": "pJM1wc16Ll1j"
      }
    },
    {
      "cell_type": "code",
      "source": [
        "# https://drive.google.com/file/d/1tDtm5wLVFDVz5-k5lpPwNWBsdM0aDRi0/view?usp=drive_link\n",
        "\n",
        "# https://drive.google.com/file/d/1sGWeqhRR0crr2-lx7w5MXkg0qH9-nI9f/view?usp=drive_link\n",
        "\n",
        "# https://drive.google.com/file/d/1OrcUX2P-q9mdPpH73HWjN_pRSDiJuiAp/view?usp=drive_link\n",
        "\n",
        "# XML (valid)\n",
        "!wget --no-check-certificate 'https://drive.google.com/uc?export=download&id=1tDtm5wLVFDVz5-k5lpPwNWBsdM0aDRi0' -O aviation.xml\n",
        "\n",
        "# DTD\n",
        "!wget --no-check-certificate 'https://drive.google.com/uc?export=download&id=1sGWeqhRR0crr2-lx7w5MXkg0qH9-nI9f' -O aviation.dtd\n",
        "\n",
        "# XML (broken)\n",
        "!wget --no-check-certificate 'https://drive.google.com/uc?export=download&id=1OrcUX2P-q9mdPpH73HWjN_pRSDiJuiAp' -O broken.xml"
      ],
      "metadata": {
        "colab": {
          "base_uri": "https://localhost:8080/"
        },
        "id": "JHaxV_Y_5Mk0",
        "outputId": "4d1edfd1-f757-471c-b2ad-4cd5fe70d7bb"
      },
      "execution_count": 3,
      "outputs": [
        {
          "output_type": "stream",
          "name": "stdout",
          "text": [
            "--2025-09-02 23:54:48--  https://drive.google.com/uc?export=download&id=1tDtm5wLVFDVz5-k5lpPwNWBsdM0aDRi0\n",
            "Resolving drive.google.com (drive.google.com)... 74.125.137.138, 74.125.137.102, 74.125.137.100, ...\n",
            "Connecting to drive.google.com (drive.google.com)|74.125.137.138|:443... connected.\n",
            "HTTP request sent, awaiting response... 303 See Other\n",
            "Location: https://drive.usercontent.google.com/download?id=1tDtm5wLVFDVz5-k5lpPwNWBsdM0aDRi0&export=download [following]\n",
            "--2025-09-02 23:54:49--  https://drive.usercontent.google.com/download?id=1tDtm5wLVFDVz5-k5lpPwNWBsdM0aDRi0&export=download\n",
            "Resolving drive.usercontent.google.com (drive.usercontent.google.com)... 142.250.101.132, 2607:f8b0:4023:c06::84\n",
            "Connecting to drive.usercontent.google.com (drive.usercontent.google.com)|142.250.101.132|:443... connected.\n",
            "HTTP request sent, awaiting response... 200 OK\n",
            "Length: 296 [application/octet-stream]\n",
            "Saving to: ‘aviation.xml’\n",
            "\n",
            "aviation.xml        100%[===================>]     296  --.-KB/s    in 0s      \n",
            "\n",
            "2025-09-02 23:54:50 (6.53 MB/s) - ‘aviation.xml’ saved [296/296]\n",
            "\n",
            "--2025-09-02 23:54:50--  https://drive.google.com/uc?export=download&id=1sGWeqhRR0crr2-lx7w5MXkg0qH9-nI9f\n",
            "Resolving drive.google.com (drive.google.com)... 74.125.137.138, 74.125.137.102, 74.125.137.100, ...\n",
            "Connecting to drive.google.com (drive.google.com)|74.125.137.138|:443... connected.\n",
            "HTTP request sent, awaiting response... 303 See Other\n",
            "Location: https://drive.usercontent.google.com/download?id=1sGWeqhRR0crr2-lx7w5MXkg0qH9-nI9f&export=download [following]\n",
            "--2025-09-02 23:54:50--  https://drive.usercontent.google.com/download?id=1sGWeqhRR0crr2-lx7w5MXkg0qH9-nI9f&export=download\n",
            "Resolving drive.usercontent.google.com (drive.usercontent.google.com)... 142.250.101.132, 2607:f8b0:4023:c06::84\n",
            "Connecting to drive.usercontent.google.com (drive.usercontent.google.com)|142.250.101.132|:443... connected.\n",
            "HTTP request sent, awaiting response... 200 OK\n",
            "Length: 2423 (2.4K) [text/html]\n",
            "Saving to: ‘aviation.dtd’\n",
            "\n",
            "aviation.dtd        100%[===================>]   2.37K  --.-KB/s    in 0s      \n",
            "\n",
            "2025-09-02 23:54:53 (30.2 MB/s) - ‘aviation.dtd’ saved [2423/2423]\n",
            "\n",
            "--2025-09-02 23:54:53--  https://drive.google.com/uc?export=download&id=1OrcUX2P-q9mdPpH73HWjN_pRSDiJuiAp\n",
            "Resolving drive.google.com (drive.google.com)... 74.125.137.138, 74.125.137.102, 74.125.137.100, ...\n",
            "Connecting to drive.google.com (drive.google.com)|74.125.137.138|:443... connected.\n",
            "HTTP request sent, awaiting response... 303 See Other\n",
            "Location: https://drive.usercontent.google.com/download?id=1OrcUX2P-q9mdPpH73HWjN_pRSDiJuiAp&export=download [following]\n",
            "--2025-09-02 23:54:53--  https://drive.usercontent.google.com/download?id=1OrcUX2P-q9mdPpH73HWjN_pRSDiJuiAp&export=download\n",
            "Resolving drive.usercontent.google.com (drive.usercontent.google.com)... 142.250.101.132, 2607:f8b0:4023:c06::84\n",
            "Connecting to drive.usercontent.google.com (drive.usercontent.google.com)|142.250.101.132|:443... connected.\n",
            "HTTP request sent, awaiting response... 200 OK\n",
            "Length: 2421 (2.4K) [text/html]\n",
            "Saving to: ‘broken.xml’\n",
            "\n",
            "broken.xml          100%[===================>]   2.36K  --.-KB/s    in 0s      \n",
            "\n",
            "2025-09-02 23:54:54 (30.1 MB/s) - ‘broken.xml’ saved [2421/2421]\n",
            "\n"
          ]
        }
      ]
    },
    {
      "cell_type": "markdown",
      "source": [
        "# Install Helpers"
      ],
      "metadata": {
        "id": "1f5vh-pBLq1z"
      }
    },
    {
      "cell_type": "code",
      "source": [
        "!pip -q install lxml pygments"
      ],
      "metadata": {
        "id": "wWZ4KqZy4MRl"
      },
      "execution_count": 10,
      "outputs": []
    },
    {
      "cell_type": "code",
      "execution_count": 4,
      "metadata": {
        "colab": {
          "base_uri": "https://localhost:8080/",
          "height": 280
        },
        "id": "Mg3rdgDk29GZ",
        "outputId": "ed0fc966-e365-414f-e5f1-3b78bb77780b"
      },
      "outputs": [
        {
          "output_type": "error",
          "ename": "DTDParseError",
          "evalue": "error parsing DTD",
          "traceback": [
            "\u001b[0;31m---------------------------------------------------------------------------\u001b[0m",
            "\u001b[0;31mDTDParseError\u001b[0m                             Traceback (most recent call last)",
            "\u001b[0;32m/tmp/ipython-input-1943650590.py\u001b[0m in \u001b[0;36m<cell line: 0>\u001b[0;34m()\u001b[0m\n\u001b[1;32m      3\u001b[0m \u001b[0;31m# Load DTD\u001b[0m\u001b[0;34m\u001b[0m\u001b[0;34m\u001b[0m\u001b[0m\n\u001b[1;32m      4\u001b[0m \u001b[0;32mwith\u001b[0m \u001b[0mopen\u001b[0m\u001b[0;34m(\u001b[0m\u001b[0;34m\"aviation.dtd\"\u001b[0m\u001b[0;34m,\u001b[0m \u001b[0;34m\"rb\"\u001b[0m\u001b[0;34m)\u001b[0m \u001b[0;32mas\u001b[0m \u001b[0mf\u001b[0m\u001b[0;34m:\u001b[0m\u001b[0;34m\u001b[0m\u001b[0;34m\u001b[0m\u001b[0m\n\u001b[0;32m----> 5\u001b[0;31m     \u001b[0mdtd\u001b[0m \u001b[0;34m=\u001b[0m \u001b[0metree\u001b[0m\u001b[0;34m.\u001b[0m\u001b[0mDTD\u001b[0m\u001b[0;34m(\u001b[0m\u001b[0mf\u001b[0m\u001b[0;34m)\u001b[0m\u001b[0;34m\u001b[0m\u001b[0;34m\u001b[0m\u001b[0m\n\u001b[0m\u001b[1;32m      6\u001b[0m \u001b[0;34m\u001b[0m\u001b[0m\n\u001b[1;32m      7\u001b[0m \u001b[0;31m# Parse XML\u001b[0m\u001b[0;34m\u001b[0m\u001b[0;34m\u001b[0m\u001b[0m\n",
            "\u001b[0;32msrc/lxml/dtd.pxi\u001b[0m in \u001b[0;36mlxml.etree.DTD.__init__\u001b[0;34m()\u001b[0m\n",
            "\u001b[0;32msrc/lxml/dtd.pxi\u001b[0m in \u001b[0;36mlxml.etree._parseDtdFromFilelike\u001b[0;34m()\u001b[0m\n",
            "\u001b[0;31mDTDParseError\u001b[0m: error parsing DTD"
          ]
        }
      ],
      "source": [
        "from lxml import etree\n",
        "\n",
        "# Load DTD\n",
        "with open(\"aviation.dtd\", \"rb\") as f:\n",
        "    dtd = etree.DTD(f)\n",
        "\n",
        "# Parse XML\n",
        "tree = etree.parse(\"aviation.xml\")\n",
        "\n",
        "# Validate\n",
        "if dtd.validate(tree):\n",
        "    print(\"XML is valid ✅\")\n",
        "else:\n",
        "    print(\"XML is NOT valid ❌\")\n",
        "    print(dtd.error_log.filter_from_errors())"
      ]
    },
    {
      "cell_type": "code",
      "source": [
        "from lxml import etree\n",
        "\n",
        "with open(\"aviation.dtd\", \"rb\") as f:\n",
        "    dtd = etree.DTD(f)\n",
        "\n",
        "tree = etree.parse(\"broken.xml\")\n",
        "\n",
        "if dtd.validate(tree):\n",
        "    print(\"XML is valid ✅\")\n",
        "else:\n",
        "    print(\"XML is NOT valid ❌\")\n",
        "    print(dtd.error_log.filter_from_errors())\n"
      ],
      "metadata": {
        "colab": {
          "base_uri": "https://localhost:8080/",
          "height": 280
        },
        "id": "CkCHxauw6QV-",
        "outputId": "bf154743-7777-45d9-e6cc-d6298e0b6b2d"
      },
      "execution_count": 8,
      "outputs": [
        {
          "output_type": "error",
          "ename": "DTDParseError",
          "evalue": "error parsing DTD",
          "traceback": [
            "\u001b[0;31m---------------------------------------------------------------------------\u001b[0m",
            "\u001b[0;31mDTDParseError\u001b[0m                             Traceback (most recent call last)",
            "\u001b[0;32m/tmp/ipython-input-3526348448.py\u001b[0m in \u001b[0;36m<cell line: 0>\u001b[0;34m()\u001b[0m\n\u001b[1;32m      2\u001b[0m \u001b[0;34m\u001b[0m\u001b[0m\n\u001b[1;32m      3\u001b[0m \u001b[0;32mwith\u001b[0m \u001b[0mopen\u001b[0m\u001b[0;34m(\u001b[0m\u001b[0;34m\"aviation.dtd\"\u001b[0m\u001b[0;34m,\u001b[0m \u001b[0;34m\"rb\"\u001b[0m\u001b[0;34m)\u001b[0m \u001b[0;32mas\u001b[0m \u001b[0mf\u001b[0m\u001b[0;34m:\u001b[0m\u001b[0;34m\u001b[0m\u001b[0;34m\u001b[0m\u001b[0m\n\u001b[0;32m----> 4\u001b[0;31m     \u001b[0mdtd\u001b[0m \u001b[0;34m=\u001b[0m \u001b[0metree\u001b[0m\u001b[0;34m.\u001b[0m\u001b[0mDTD\u001b[0m\u001b[0;34m(\u001b[0m\u001b[0mf\u001b[0m\u001b[0;34m)\u001b[0m\u001b[0;34m\u001b[0m\u001b[0;34m\u001b[0m\u001b[0m\n\u001b[0m\u001b[1;32m      5\u001b[0m \u001b[0;34m\u001b[0m\u001b[0m\n\u001b[1;32m      6\u001b[0m \u001b[0mtree\u001b[0m \u001b[0;34m=\u001b[0m \u001b[0metree\u001b[0m\u001b[0;34m.\u001b[0m\u001b[0mparse\u001b[0m\u001b[0;34m(\u001b[0m\u001b[0;34m\"broken.xml\"\u001b[0m\u001b[0;34m)\u001b[0m\u001b[0;34m\u001b[0m\u001b[0;34m\u001b[0m\u001b[0m\n",
            "\u001b[0;32msrc/lxml/dtd.pxi\u001b[0m in \u001b[0;36mlxml.etree.DTD.__init__\u001b[0;34m()\u001b[0m\n",
            "\u001b[0;32msrc/lxml/dtd.pxi\u001b[0m in \u001b[0;36mlxml.etree._parseDtdFromFilelike\u001b[0;34m()\u001b[0m\n",
            "\u001b[0;31mDTDParseError\u001b[0m: error parsing DTD"
          ]
        }
      ]
    },
    {
      "cell_type": "markdown",
      "source": [
        "# Let's look at files"
      ],
      "metadata": {
        "id": "dun_oHIrL8BM"
      }
    },
    {
      "cell_type": "code",
      "source": [
        "from lxml import etree\n",
        "from IPython.display import HTML, display\n",
        "from pygments import highlight\n",
        "from pygments.lexers import XmlLexer, DtdLexer\n",
        "from pygments.formatters import HtmlFormatter\n",
        "\n",
        "def pretty_xml_text(path: str) -> str:\n",
        "    \"\"\"Load XML and return an indented, unicode string.\"\"\"\n",
        "    parser = etree.XMLParser(remove_blank_text=True)\n",
        "    tree = etree.parse(path, parser)\n",
        "    return etree.tostring(tree, pretty_print=True, encoding=\"unicode\")\n",
        "\n",
        "def show_code(text: str, lexer, title: str = None, max_height: str = \"480px\"):\n",
        "    \"\"\"Render syntax-highlighted code with line numbers in a scrollable box.\"\"\"\n",
        "    formatter = HtmlFormatter(linenos=\"table\", style=\"friendly\")\n",
        "    css = formatter.get_style_defs('.highlight')\n",
        "    html = [f\"<style>{css}.codebox{{border:1px solid #e5e7eb;border-radius:10px;overflow:auto;max-height:{max_height}}}.title{{font-weight:600;margin:4px 0 8px}}</style>\"]\n",
        "    if title:\n",
        "        html.append(f'<div class=\"title\">{title}</div>')\n",
        "    html.append(f'<div class=\"codebox\">{highlight(text, lexer, formatter)}</div>')\n",
        "    display(HTML(\"\".join(html)))\n",
        "\n",
        "# Show the pretty XML and the DTD (side by side calls)\n",
        "show_code(pretty_xml_text(\"aviation.xml\"), XmlLexer(), \"aviation.xml (pretty-printed)\")\n",
        "show_code(open(\"aviation.dtd\", encoding=\"utf-8\").read(), DtdLexer(), \"aviation.dtd\")\n"
      ],
      "metadata": {
        "colab": {
          "base_uri": "https://localhost:8080/",
          "height": 575
        },
        "id": "MN_1HV2AL_KE",
        "outputId": "f5dd992f-df8b-47be-c9df-3ea5f68adbd1"
      },
      "execution_count": 9,
      "outputs": [
        {
          "output_type": "error",
          "ename": "XMLSyntaxError",
          "evalue": "StartTag: invalid element name, line 1, column 2 (aviation.xml, line 1)",
          "traceback": [
            "Traceback \u001b[0;36m(most recent call last)\u001b[0m:\n",
            "  File \u001b[1;32m\"/usr/local/lib/python3.12/dist-packages/IPython/core/interactiveshell.py\"\u001b[0m, line \u001b[1;32m3553\u001b[0m, in \u001b[1;35mrun_code\u001b[0m\n    exec(code_obj, self.user_global_ns, self.user_ns)\n",
            "  File \u001b[1;32m\"/tmp/ipython-input-2718254681.py\"\u001b[0m, line \u001b[1;32m24\u001b[0m, in \u001b[1;35m<cell line: 0>\u001b[0m\n    show_code(pretty_xml_text(\"aviation.xml\"), XmlLexer(), \"aviation.xml (pretty-printed)\")\n",
            "  File \u001b[1;32m\"/tmp/ipython-input-2718254681.py\"\u001b[0m, line \u001b[1;32m10\u001b[0m, in \u001b[1;35mpretty_xml_text\u001b[0m\n    tree = etree.parse(path, parser)\n",
            "  File \u001b[1;32m\"src/lxml/etree.pyx\"\u001b[0m, line \u001b[1;32m3590\u001b[0m, in \u001b[1;35mlxml.etree.parse\u001b[0m\n",
            "  File \u001b[1;32m\"src/lxml/parser.pxi\"\u001b[0m, line \u001b[1;32m1958\u001b[0m, in \u001b[1;35mlxml.etree._parseDocument\u001b[0m\n",
            "  File \u001b[1;32m\"src/lxml/parser.pxi\"\u001b[0m, line \u001b[1;32m1984\u001b[0m, in \u001b[1;35mlxml.etree._parseDocumentFromURL\u001b[0m\n",
            "  File \u001b[1;32m\"src/lxml/parser.pxi\"\u001b[0m, line \u001b[1;32m1887\u001b[0m, in \u001b[1;35mlxml.etree._parseDocFromFile\u001b[0m\n",
            "  File \u001b[1;32m\"src/lxml/parser.pxi\"\u001b[0m, line \u001b[1;32m1200\u001b[0m, in \u001b[1;35mlxml.etree._BaseParser._parseDocFromFile\u001b[0m\n",
            "  File \u001b[1;32m\"src/lxml/parser.pxi\"\u001b[0m, line \u001b[1;32m633\u001b[0m, in \u001b[1;35mlxml.etree._ParserContext._handleParseResultDoc\u001b[0m\n",
            "  File \u001b[1;32m\"src/lxml/parser.pxi\"\u001b[0m, line \u001b[1;32m743\u001b[0m, in \u001b[1;35mlxml.etree._handleParseResult\u001b[0m\n",
            "\u001b[0;36m  File \u001b[0;32m\"src/lxml/parser.pxi\"\u001b[0;36m, line \u001b[0;32m672\u001b[0;36m, in \u001b[0;35mlxml.etree._raiseParseError\u001b[0;36m\u001b[0m\n",
            "\u001b[0;36m  File \u001b[0;32m\"aviation.xml\"\u001b[0;36m, line \u001b[0;32m1\u001b[0m\n\u001b[0;31m    <!ELEMENT flight (flightNumber, airline, departure, arrival, status)>\u001b[0m\n\u001b[0m    ^\u001b[0m\n\u001b[0;31mXMLSyntaxError\u001b[0m\u001b[0;31m:\u001b[0m StartTag: invalid element name, line 1, column 2\n"
          ]
        }
      ]
    },
    {
      "cell_type": "code",
      "source": [
        "show_code(pretty_xml_text(\"broken.xml\"), XmlLexer(), \"broken.xml (pretty-printed)\")\n"
      ],
      "metadata": {
        "colab": {
          "base_uri": "https://localhost:8080/",
          "height": 159
        },
        "id": "4DJjb_RxMEsU",
        "outputId": "ddcad511-98a5-4f69-ef29-8b64082c07d4"
      },
      "execution_count": null,
      "outputs": [
        {
          "output_type": "display_data",
          "data": {
            "text/plain": [
              "<IPython.core.display.HTML object>"
            ],
            "text/html": [
              "<style>pre { line-height: 125%; }\n",
              "td.linenos .normal { color: #666666; background-color: transparent; padding-left: 5px; padding-right: 5px; }\n",
              "span.linenos { color: #666666; background-color: transparent; padding-left: 5px; padding-right: 5px; }\n",
              "td.linenos .special { color: #000000; background-color: #ffffc0; padding-left: 5px; padding-right: 5px; }\n",
              "span.linenos.special { color: #000000; background-color: #ffffc0; padding-left: 5px; padding-right: 5px; }\n",
              ".highlight .hll { background-color: #ffffcc }\n",
              ".highlight { background: #f0f0f0; }\n",
              ".highlight .c { color: #60A0B0; font-style: italic } /* Comment */\n",
              ".highlight .err { border: 1px solid #F00 } /* Error */\n",
              ".highlight .k { color: #007020; font-weight: bold } /* Keyword */\n",
              ".highlight .o { color: #666 } /* Operator */\n",
              ".highlight .ch { color: #60A0B0; font-style: italic } /* Comment.Hashbang */\n",
              ".highlight .cm { color: #60A0B0; font-style: italic } /* Comment.Multiline */\n",
              ".highlight .cp { color: #007020 } /* Comment.Preproc */\n",
              ".highlight .cpf { color: #60A0B0; font-style: italic } /* Comment.PreprocFile */\n",
              ".highlight .c1 { color: #60A0B0; font-style: italic } /* Comment.Single */\n",
              ".highlight .cs { color: #60A0B0; background-color: #FFF0F0 } /* Comment.Special */\n",
              ".highlight .gd { color: #A00000 } /* Generic.Deleted */\n",
              ".highlight .ge { font-style: italic } /* Generic.Emph */\n",
              ".highlight .ges { font-weight: bold; font-style: italic } /* Generic.EmphStrong */\n",
              ".highlight .gr { color: #F00 } /* Generic.Error */\n",
              ".highlight .gh { color: #000080; font-weight: bold } /* Generic.Heading */\n",
              ".highlight .gi { color: #00A000 } /* Generic.Inserted */\n",
              ".highlight .go { color: #888 } /* Generic.Output */\n",
              ".highlight .gp { color: #C65D09; font-weight: bold } /* Generic.Prompt */\n",
              ".highlight .gs { font-weight: bold } /* Generic.Strong */\n",
              ".highlight .gu { color: #800080; font-weight: bold } /* Generic.Subheading */\n",
              ".highlight .gt { color: #04D } /* Generic.Traceback */\n",
              ".highlight .kc { color: #007020; font-weight: bold } /* Keyword.Constant */\n",
              ".highlight .kd { color: #007020; font-weight: bold } /* Keyword.Declaration */\n",
              ".highlight .kn { color: #007020; font-weight: bold } /* Keyword.Namespace */\n",
              ".highlight .kp { color: #007020 } /* Keyword.Pseudo */\n",
              ".highlight .kr { color: #007020; font-weight: bold } /* Keyword.Reserved */\n",
              ".highlight .kt { color: #902000 } /* Keyword.Type */\n",
              ".highlight .m { color: #40A070 } /* Literal.Number */\n",
              ".highlight .s { color: #4070A0 } /* Literal.String */\n",
              ".highlight .na { color: #4070A0 } /* Name.Attribute */\n",
              ".highlight .nb { color: #007020 } /* Name.Builtin */\n",
              ".highlight .nc { color: #0E84B5; font-weight: bold } /* Name.Class */\n",
              ".highlight .no { color: #60ADD5 } /* Name.Constant */\n",
              ".highlight .nd { color: #555; font-weight: bold } /* Name.Decorator */\n",
              ".highlight .ni { color: #D55537; font-weight: bold } /* Name.Entity */\n",
              ".highlight .ne { color: #007020 } /* Name.Exception */\n",
              ".highlight .nf { color: #06287E } /* Name.Function */\n",
              ".highlight .nl { color: #002070; font-weight: bold } /* Name.Label */\n",
              ".highlight .nn { color: #0E84B5; font-weight: bold } /* Name.Namespace */\n",
              ".highlight .nt { color: #062873; font-weight: bold } /* Name.Tag */\n",
              ".highlight .nv { color: #BB60D5 } /* Name.Variable */\n",
              ".highlight .ow { color: #007020; font-weight: bold } /* Operator.Word */\n",
              ".highlight .w { color: #BBB } /* Text.Whitespace */\n",
              ".highlight .mb { color: #40A070 } /* Literal.Number.Bin */\n",
              ".highlight .mf { color: #40A070 } /* Literal.Number.Float */\n",
              ".highlight .mh { color: #40A070 } /* Literal.Number.Hex */\n",
              ".highlight .mi { color: #40A070 } /* Literal.Number.Integer */\n",
              ".highlight .mo { color: #40A070 } /* Literal.Number.Oct */\n",
              ".highlight .sa { color: #4070A0 } /* Literal.String.Affix */\n",
              ".highlight .sb { color: #4070A0 } /* Literal.String.Backtick */\n",
              ".highlight .sc { color: #4070A0 } /* Literal.String.Char */\n",
              ".highlight .dl { color: #4070A0 } /* Literal.String.Delimiter */\n",
              ".highlight .sd { color: #4070A0; font-style: italic } /* Literal.String.Doc */\n",
              ".highlight .s2 { color: #4070A0 } /* Literal.String.Double */\n",
              ".highlight .se { color: #4070A0; font-weight: bold } /* Literal.String.Escape */\n",
              ".highlight .sh { color: #4070A0 } /* Literal.String.Heredoc */\n",
              ".highlight .si { color: #70A0D0; font-style: italic } /* Literal.String.Interpol */\n",
              ".highlight .sx { color: #C65D09 } /* Literal.String.Other */\n",
              ".highlight .sr { color: #235388 } /* Literal.String.Regex */\n",
              ".highlight .s1 { color: #4070A0 } /* Literal.String.Single */\n",
              ".highlight .ss { color: #517918 } /* Literal.String.Symbol */\n",
              ".highlight .bp { color: #007020 } /* Name.Builtin.Pseudo */\n",
              ".highlight .fm { color: #06287E } /* Name.Function.Magic */\n",
              ".highlight .vc { color: #BB60D5 } /* Name.Variable.Class */\n",
              ".highlight .vg { color: #BB60D5 } /* Name.Variable.Global */\n",
              ".highlight .vi { color: #BB60D5 } /* Name.Variable.Instance */\n",
              ".highlight .vm { color: #BB60D5 } /* Name.Variable.Magic */\n",
              ".highlight .il { color: #40A070 } /* Literal.Number.Integer.Long */.codebox{border:1px solid #e5e7eb;border-radius:10px;overflow:auto;max-height:480px}.title{font-weight:600;margin:4px 0 8px}</style><div class=\"title\">broken_example.xml (pretty-printed)</div><div class=\"codebox\"><div class=\"highlight\"><table class=\"highlighttable\"><tr><td class=\"linenos\"><div class=\"linenodiv\"><pre><span class=\"normal\">1</span>\n",
              "<span class=\"normal\">2</span>\n",
              "<span class=\"normal\">3</span>\n",
              "<span class=\"normal\">4</span>\n",
              "<span class=\"normal\">5</span>\n",
              "<span class=\"normal\">6</span></pre></div></td><td class=\"code\"><div><pre><span></span><span class=\"cp\">&lt;!DOCTYPE book SYSTEM &quot;book.dtd&quot;&gt;</span>\n",
              "<span class=\"nt\">&lt;book&gt;</span>\n",
              "<span class=\"w\">  </span><span class=\"nt\">&lt;title&gt;</span>Database<span class=\"w\"> </span>Systems<span class=\"nt\">&lt;/title&gt;</span>\n",
              "<span class=\"w\">  </span><span class=\"cm\">&lt;!-- Only one author included, so it will fail because DTD requires author+ --&gt;</span>\n",
              "<span class=\"w\">  </span><span class=\"nt\">&lt;year&gt;</span>2009<span class=\"nt\">&lt;/year&gt;</span>\n",
              "<span class=\"nt\">&lt;/book&gt;</span>\n",
              "</pre></div></td></tr></table></div>\n",
              "</div>"
            ]
          },
          "metadata": {}
        }
      ]
    },
    {
      "cell_type": "markdown",
      "source": [
        "# Display Variant"
      ],
      "metadata": {
        "id": "EjrQLnmMMG1E"
      }
    },
    {
      "cell_type": "code",
      "source": [
        "def show_collapsible(title: str, text: str, lexer, open_default=False):\n",
        "    fmt = HtmlFormatter(linenos=\"table\", style=\"friendly\")\n",
        "    css = fmt.get_style_defs('.highlight')\n",
        "    details_attr = \"open\" if open_default else \"\"\n",
        "    html = f\"\"\"\n",
        "    <style>{css}</style>\n",
        "    <details {details_attr} style=\"margin:6px 0\">\n",
        "      <summary style=\"cursor:pointer;font-weight:600\">{title}</summary>\n",
        "      <div style=\"border:1px solid #e5e7eb;border-radius:10px;overflow:auto;max-height:520px;margin-top:8px\">\n",
        "        {highlight(text, lexer, fmt)}\n",
        "      </div>\n",
        "    </details>\n",
        "    \"\"\"\n",
        "    display(HTML(html))\n",
        "\n",
        "show_collapsible(\"aviation.xml (pretty-printed)\", pretty_xml_text(\"aviation.xml\"), XmlLexer(), open_default=True)\n",
        "show_collapsible(\"aviation.dtd\", open(\"aviation.dtd\", encoding=\"utf-8\").read(), DtdLexer())\n"
      ],
      "metadata": {
        "colab": {
          "base_uri": "https://localhost:8080/",
          "height": 70
        },
        "id": "-6xl52Q8MMLS",
        "outputId": "6992009e-83e9-4bfd-e27e-6050fb09f573"
      },
      "execution_count": null,
      "outputs": [
        {
          "output_type": "display_data",
          "data": {
            "text/plain": [
              "<IPython.core.display.HTML object>"
            ],
            "text/html": [
              "\n",
              "    <style>pre { line-height: 125%; }\n",
              "td.linenos .normal { color: #666666; background-color: transparent; padding-left: 5px; padding-right: 5px; }\n",
              "span.linenos { color: #666666; background-color: transparent; padding-left: 5px; padding-right: 5px; }\n",
              "td.linenos .special { color: #000000; background-color: #ffffc0; padding-left: 5px; padding-right: 5px; }\n",
              "span.linenos.special { color: #000000; background-color: #ffffc0; padding-left: 5px; padding-right: 5px; }\n",
              ".highlight .hll { background-color: #ffffcc }\n",
              ".highlight { background: #f0f0f0; }\n",
              ".highlight .c { color: #60A0B0; font-style: italic } /* Comment */\n",
              ".highlight .err { border: 1px solid #F00 } /* Error */\n",
              ".highlight .k { color: #007020; font-weight: bold } /* Keyword */\n",
              ".highlight .o { color: #666 } /* Operator */\n",
              ".highlight .ch { color: #60A0B0; font-style: italic } /* Comment.Hashbang */\n",
              ".highlight .cm { color: #60A0B0; font-style: italic } /* Comment.Multiline */\n",
              ".highlight .cp { color: #007020 } /* Comment.Preproc */\n",
              ".highlight .cpf { color: #60A0B0; font-style: italic } /* Comment.PreprocFile */\n",
              ".highlight .c1 { color: #60A0B0; font-style: italic } /* Comment.Single */\n",
              ".highlight .cs { color: #60A0B0; background-color: #FFF0F0 } /* Comment.Special */\n",
              ".highlight .gd { color: #A00000 } /* Generic.Deleted */\n",
              ".highlight .ge { font-style: italic } /* Generic.Emph */\n",
              ".highlight .ges { font-weight: bold; font-style: italic } /* Generic.EmphStrong */\n",
              ".highlight .gr { color: #F00 } /* Generic.Error */\n",
              ".highlight .gh { color: #000080; font-weight: bold } /* Generic.Heading */\n",
              ".highlight .gi { color: #00A000 } /* Generic.Inserted */\n",
              ".highlight .go { color: #888 } /* Generic.Output */\n",
              ".highlight .gp { color: #C65D09; font-weight: bold } /* Generic.Prompt */\n",
              ".highlight .gs { font-weight: bold } /* Generic.Strong */\n",
              ".highlight .gu { color: #800080; font-weight: bold } /* Generic.Subheading */\n",
              ".highlight .gt { color: #04D } /* Generic.Traceback */\n",
              ".highlight .kc { color: #007020; font-weight: bold } /* Keyword.Constant */\n",
              ".highlight .kd { color: #007020; font-weight: bold } /* Keyword.Declaration */\n",
              ".highlight .kn { color: #007020; font-weight: bold } /* Keyword.Namespace */\n",
              ".highlight .kp { color: #007020 } /* Keyword.Pseudo */\n",
              ".highlight .kr { color: #007020; font-weight: bold } /* Keyword.Reserved */\n",
              ".highlight .kt { color: #902000 } /* Keyword.Type */\n",
              ".highlight .m { color: #40A070 } /* Literal.Number */\n",
              ".highlight .s { color: #4070A0 } /* Literal.String */\n",
              ".highlight .na { color: #4070A0 } /* Name.Attribute */\n",
              ".highlight .nb { color: #007020 } /* Name.Builtin */\n",
              ".highlight .nc { color: #0E84B5; font-weight: bold } /* Name.Class */\n",
              ".highlight .no { color: #60ADD5 } /* Name.Constant */\n",
              ".highlight .nd { color: #555; font-weight: bold } /* Name.Decorator */\n",
              ".highlight .ni { color: #D55537; font-weight: bold } /* Name.Entity */\n",
              ".highlight .ne { color: #007020 } /* Name.Exception */\n",
              ".highlight .nf { color: #06287E } /* Name.Function */\n",
              ".highlight .nl { color: #002070; font-weight: bold } /* Name.Label */\n",
              ".highlight .nn { color: #0E84B5; font-weight: bold } /* Name.Namespace */\n",
              ".highlight .nt { color: #062873; font-weight: bold } /* Name.Tag */\n",
              ".highlight .nv { color: #BB60D5 } /* Name.Variable */\n",
              ".highlight .ow { color: #007020; font-weight: bold } /* Operator.Word */\n",
              ".highlight .w { color: #BBB } /* Text.Whitespace */\n",
              ".highlight .mb { color: #40A070 } /* Literal.Number.Bin */\n",
              ".highlight .mf { color: #40A070 } /* Literal.Number.Float */\n",
              ".highlight .mh { color: #40A070 } /* Literal.Number.Hex */\n",
              ".highlight .mi { color: #40A070 } /* Literal.Number.Integer */\n",
              ".highlight .mo { color: #40A070 } /* Literal.Number.Oct */\n",
              ".highlight .sa { color: #4070A0 } /* Literal.String.Affix */\n",
              ".highlight .sb { color: #4070A0 } /* Literal.String.Backtick */\n",
              ".highlight .sc { color: #4070A0 } /* Literal.String.Char */\n",
              ".highlight .dl { color: #4070A0 } /* Literal.String.Delimiter */\n",
              ".highlight .sd { color: #4070A0; font-style: italic } /* Literal.String.Doc */\n",
              ".highlight .s2 { color: #4070A0 } /* Literal.String.Double */\n",
              ".highlight .se { color: #4070A0; font-weight: bold } /* Literal.String.Escape */\n",
              ".highlight .sh { color: #4070A0 } /* Literal.String.Heredoc */\n",
              ".highlight .si { color: #70A0D0; font-style: italic } /* Literal.String.Interpol */\n",
              ".highlight .sx { color: #C65D09 } /* Literal.String.Other */\n",
              ".highlight .sr { color: #235388 } /* Literal.String.Regex */\n",
              ".highlight .s1 { color: #4070A0 } /* Literal.String.Single */\n",
              ".highlight .ss { color: #517918 } /* Literal.String.Symbol */\n",
              ".highlight .bp { color: #007020 } /* Name.Builtin.Pseudo */\n",
              ".highlight .fm { color: #06287E } /* Name.Function.Magic */\n",
              ".highlight .vc { color: #BB60D5 } /* Name.Variable.Class */\n",
              ".highlight .vg { color: #BB60D5 } /* Name.Variable.Global */\n",
              ".highlight .vi { color: #BB60D5 } /* Name.Variable.Instance */\n",
              ".highlight .vm { color: #BB60D5 } /* Name.Variable.Magic */\n",
              ".highlight .il { color: #40A070 } /* Literal.Number.Integer.Long */</style>\n",
              "    <details open style=\"margin:6px 0\">\n",
              "      <summary style=\"cursor:pointer;font-weight:600\">example.xml (pretty-printed)</summary>\n",
              "      <div style=\"border:1px solid #e5e7eb;border-radius:10px;overflow:auto;max-height:520px;margin-top:8px\">\n",
              "        <div class=\"highlight\"><table class=\"highlighttable\"><tr><td class=\"linenos\"><div class=\"linenodiv\"><pre><span class=\"normal\">1</span>\n",
              "<span class=\"normal\">2</span>\n",
              "<span class=\"normal\">3</span>\n",
              "<span class=\"normal\">4</span>\n",
              "<span class=\"normal\">5</span>\n",
              "<span class=\"normal\">6</span>\n",
              "<span class=\"normal\">7</span>\n",
              "<span class=\"normal\">8</span></pre></div></td><td class=\"code\"><div><pre><span></span><span class=\"cp\">&lt;!DOCTYPE book SYSTEM &quot;book.dtd&quot;&gt;</span>\n",
              "<span class=\"nt\">&lt;book&gt;</span>\n",
              "<span class=\"w\">  </span><span class=\"nt\">&lt;title&gt;</span>Database<span class=\"w\"> </span>Systems<span class=\"nt\">&lt;/title&gt;</span>\n",
              "<span class=\"w\">  </span><span class=\"nt\">&lt;author&gt;</span>Hector<span class=\"w\"> </span>Garcia-Molina<span class=\"nt\">&lt;/author&gt;</span>\n",
              "<span class=\"w\">  </span><span class=\"nt\">&lt;author&gt;</span>Jeffrey<span class=\"w\"> </span>D.<span class=\"w\"> </span>Ullman<span class=\"nt\">&lt;/author&gt;</span>\n",
              "<span class=\"w\">  </span><span class=\"nt\">&lt;author&gt;</span>Jennifer<span class=\"w\"> </span>Widom<span class=\"nt\">&lt;/author&gt;</span>\n",
              "<span class=\"w\">  </span><span class=\"nt\">&lt;year&gt;</span>2009<span class=\"nt\">&lt;/year&gt;</span>\n",
              "<span class=\"nt\">&lt;/book&gt;</span>\n",
              "</pre></div></td></tr></table></div>\n",
              "\n",
              "      </div>\n",
              "    </details>\n",
              "    "
            ]
          },
          "metadata": {}
        },
        {
          "output_type": "display_data",
          "data": {
            "text/plain": [
              "<IPython.core.display.HTML object>"
            ],
            "text/html": [
              "\n",
              "    <style>pre { line-height: 125%; }\n",
              "td.linenos .normal { color: #666666; background-color: transparent; padding-left: 5px; padding-right: 5px; }\n",
              "span.linenos { color: #666666; background-color: transparent; padding-left: 5px; padding-right: 5px; }\n",
              "td.linenos .special { color: #000000; background-color: #ffffc0; padding-left: 5px; padding-right: 5px; }\n",
              "span.linenos.special { color: #000000; background-color: #ffffc0; padding-left: 5px; padding-right: 5px; }\n",
              ".highlight .hll { background-color: #ffffcc }\n",
              ".highlight { background: #f0f0f0; }\n",
              ".highlight .c { color: #60A0B0; font-style: italic } /* Comment */\n",
              ".highlight .err { border: 1px solid #F00 } /* Error */\n",
              ".highlight .k { color: #007020; font-weight: bold } /* Keyword */\n",
              ".highlight .o { color: #666 } /* Operator */\n",
              ".highlight .ch { color: #60A0B0; font-style: italic } /* Comment.Hashbang */\n",
              ".highlight .cm { color: #60A0B0; font-style: italic } /* Comment.Multiline */\n",
              ".highlight .cp { color: #007020 } /* Comment.Preproc */\n",
              ".highlight .cpf { color: #60A0B0; font-style: italic } /* Comment.PreprocFile */\n",
              ".highlight .c1 { color: #60A0B0; font-style: italic } /* Comment.Single */\n",
              ".highlight .cs { color: #60A0B0; background-color: #FFF0F0 } /* Comment.Special */\n",
              ".highlight .gd { color: #A00000 } /* Generic.Deleted */\n",
              ".highlight .ge { font-style: italic } /* Generic.Emph */\n",
              ".highlight .ges { font-weight: bold; font-style: italic } /* Generic.EmphStrong */\n",
              ".highlight .gr { color: #F00 } /* Generic.Error */\n",
              ".highlight .gh { color: #000080; font-weight: bold } /* Generic.Heading */\n",
              ".highlight .gi { color: #00A000 } /* Generic.Inserted */\n",
              ".highlight .go { color: #888 } /* Generic.Output */\n",
              ".highlight .gp { color: #C65D09; font-weight: bold } /* Generic.Prompt */\n",
              ".highlight .gs { font-weight: bold } /* Generic.Strong */\n",
              ".highlight .gu { color: #800080; font-weight: bold } /* Generic.Subheading */\n",
              ".highlight .gt { color: #04D } /* Generic.Traceback */\n",
              ".highlight .kc { color: #007020; font-weight: bold } /* Keyword.Constant */\n",
              ".highlight .kd { color: #007020; font-weight: bold } /* Keyword.Declaration */\n",
              ".highlight .kn { color: #007020; font-weight: bold } /* Keyword.Namespace */\n",
              ".highlight .kp { color: #007020 } /* Keyword.Pseudo */\n",
              ".highlight .kr { color: #007020; font-weight: bold } /* Keyword.Reserved */\n",
              ".highlight .kt { color: #902000 } /* Keyword.Type */\n",
              ".highlight .m { color: #40A070 } /* Literal.Number */\n",
              ".highlight .s { color: #4070A0 } /* Literal.String */\n",
              ".highlight .na { color: #4070A0 } /* Name.Attribute */\n",
              ".highlight .nb { color: #007020 } /* Name.Builtin */\n",
              ".highlight .nc { color: #0E84B5; font-weight: bold } /* Name.Class */\n",
              ".highlight .no { color: #60ADD5 } /* Name.Constant */\n",
              ".highlight .nd { color: #555; font-weight: bold } /* Name.Decorator */\n",
              ".highlight .ni { color: #D55537; font-weight: bold } /* Name.Entity */\n",
              ".highlight .ne { color: #007020 } /* Name.Exception */\n",
              ".highlight .nf { color: #06287E } /* Name.Function */\n",
              ".highlight .nl { color: #002070; font-weight: bold } /* Name.Label */\n",
              ".highlight .nn { color: #0E84B5; font-weight: bold } /* Name.Namespace */\n",
              ".highlight .nt { color: #062873; font-weight: bold } /* Name.Tag */\n",
              ".highlight .nv { color: #BB60D5 } /* Name.Variable */\n",
              ".highlight .ow { color: #007020; font-weight: bold } /* Operator.Word */\n",
              ".highlight .w { color: #BBB } /* Text.Whitespace */\n",
              ".highlight .mb { color: #40A070 } /* Literal.Number.Bin */\n",
              ".highlight .mf { color: #40A070 } /* Literal.Number.Float */\n",
              ".highlight .mh { color: #40A070 } /* Literal.Number.Hex */\n",
              ".highlight .mi { color: #40A070 } /* Literal.Number.Integer */\n",
              ".highlight .mo { color: #40A070 } /* Literal.Number.Oct */\n",
              ".highlight .sa { color: #4070A0 } /* Literal.String.Affix */\n",
              ".highlight .sb { color: #4070A0 } /* Literal.String.Backtick */\n",
              ".highlight .sc { color: #4070A0 } /* Literal.String.Char */\n",
              ".highlight .dl { color: #4070A0 } /* Literal.String.Delimiter */\n",
              ".highlight .sd { color: #4070A0; font-style: italic } /* Literal.String.Doc */\n",
              ".highlight .s2 { color: #4070A0 } /* Literal.String.Double */\n",
              ".highlight .se { color: #4070A0; font-weight: bold } /* Literal.String.Escape */\n",
              ".highlight .sh { color: #4070A0 } /* Literal.String.Heredoc */\n",
              ".highlight .si { color: #70A0D0; font-style: italic } /* Literal.String.Interpol */\n",
              ".highlight .sx { color: #C65D09 } /* Literal.String.Other */\n",
              ".highlight .sr { color: #235388 } /* Literal.String.Regex */\n",
              ".highlight .s1 { color: #4070A0 } /* Literal.String.Single */\n",
              ".highlight .ss { color: #517918 } /* Literal.String.Symbol */\n",
              ".highlight .bp { color: #007020 } /* Name.Builtin.Pseudo */\n",
              ".highlight .fm { color: #06287E } /* Name.Function.Magic */\n",
              ".highlight .vc { color: #BB60D5 } /* Name.Variable.Class */\n",
              ".highlight .vg { color: #BB60D5 } /* Name.Variable.Global */\n",
              ".highlight .vi { color: #BB60D5 } /* Name.Variable.Instance */\n",
              ".highlight .vm { color: #BB60D5 } /* Name.Variable.Magic */\n",
              ".highlight .il { color: #40A070 } /* Literal.Number.Integer.Long */</style>\n",
              "    <details  style=\"margin:6px 0\">\n",
              "      <summary style=\"cursor:pointer;font-weight:600\">book.dtd</summary>\n",
              "      <div style=\"border:1px solid #e5e7eb;border-radius:10px;overflow:auto;max-height:520px;margin-top:8px\">\n",
              "        <div class=\"highlight\"><table class=\"highlighttable\"><tr><td class=\"linenos\"><div class=\"linenodiv\"><pre><span class=\"normal\">1</span>\n",
              "<span class=\"normal\">2</span>\n",
              "<span class=\"normal\">3</span>\n",
              "<span class=\"normal\">4</span></pre></div></td><td class=\"code\"><div><pre><span></span><span class=\"k\">&lt;!ELEMENT</span> <span class=\"nt\">book</span> <span class=\"o\">(</span><span class=\"nt\">title</span><span class=\"o\">,</span> <span class=\"nt\">author</span><span class=\"o\">+,</span> <span class=\"nt\">year</span><span class=\"o\">)</span><span class=\"k\">&gt;</span>\n",
              "<span class=\"k\">&lt;!ELEMENT</span> <span class=\"nt\">title</span> <span class=\"o\">(</span><span class=\"kc\">#PCDATA</span><span class=\"o\">)</span><span class=\"k\">&gt;</span>\n",
              "<span class=\"k\">&lt;!ELEMENT</span> <span class=\"nt\">author</span> <span class=\"o\">(</span><span class=\"kc\">#PCDATA</span><span class=\"o\">)</span><span class=\"k\">&gt;</span>\n",
              "<span class=\"k\">&lt;!ELEMENT</span> <span class=\"nt\">year</span> <span class=\"o\">(</span><span class=\"kc\">#PCDATA</span><span class=\"o\">)</span><span class=\"k\">&gt;</span>\n",
              "</pre></div></td></tr></table></div>\n",
              "\n",
              "      </div>\n",
              "    </details>\n",
              "    "
            ]
          },
          "metadata": {}
        }
      ]
    },
    {
      "cell_type": "code",
      "source": [
        "from lxml import etree\n",
        "\n",
        "with open(\"aviation.dtd\",\"rb\") as f:\n",
        "    dtd = etree.DTD(f)\n",
        "\n",
        "tree_ok = etree.parse(\"aviation.xml\")\n",
        "tree_bad = etree.parse(\"broken.xml\")\n",
        "\n",
        "print(\"aviation.xml →\", \"VALID ✅\" if dtd.validate(tree_ok) else \"NOT valid ❌\")\n",
        "print(\"broken.xml →\", \"VALID ✅\" if dtd.validate(tree_bad) else \"NOT valid ❌\")\n",
        "if not dtd.validate(tree_bad):\n",
        "    # Show the last few errors for teaching\n",
        "    for e in list(dtd.error_log)[-5:]:\n",
        "        print(\"•\", e)"
      ],
      "metadata": {
        "colab": {
          "base_uri": "https://localhost:8080/"
        },
        "id": "WU8JKIWbMM58",
        "outputId": "659c9ac1-fb4a-4bd5-8c9d-14be40a1941a"
      },
      "execution_count": null,
      "outputs": [
        {
          "output_type": "stream",
          "name": "stdout",
          "text": [
            "example.xml → VALID ✅\n",
            "broken_example.xml → NOT valid ❌\n",
            "• broken_example.xml:3:0:ERROR:VALID:DTD_CONTENT_MODEL: Element book content does not follow the DTD, expecting (title , author+ , year), got (title year )\n"
          ]
        }
      ]
    }
  ]
}